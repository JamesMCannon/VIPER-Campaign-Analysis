{
    "cells": [
        {
            "cell_type": "code",
            "execution_count": 15,
            "source": [
                "import math as m\r\n",
                "\r\n",
                "Pt = 1.8 #Transmitter Power in MW\r\n",
                "d = 15.25 #Distance from transmitter in KM\r\n",
                "G = 3.52 #The 10log10 gain of the transmitter\r\n",
                "Z0 = 377 #Impedence of free space in ohms\r\n",
                "\r\n",
                "g = 10 ** (G/10)\r\n",
                "A = 4*m.pi*(d*1000)**2 #Area in m^2\r\n",
                "s = 1000000*Pt*g/A #Recieved Power at distance, d, in w/m^2\r\n",
                "\r\n",
                "mu = 0.000001256 #Henries/m\r\n",
                "B = mu * m.sqrt(s/Z0) * 10**9 #magnetic component in nT\r\n",
                "\r\n",
                "print(str(round(B,3))+\" nT\")"
            ],
            "outputs": [
                {
                    "output_type": "stream",
                    "name": "stdout",
                    "text": [
                        "2.408 nT\n"
                    ]
                }
            ],
            "metadata": {}
        }
    ],
    "metadata": {
        "orig_nbformat": 4,
        "language_info": {
            "name": "python",
            "version": "3.9.5",
            "mimetype": "text/x-python",
            "codemirror_mode": {
                "name": "ipython",
                "version": 3
            },
            "pygments_lexer": "ipython3",
            "nbconvert_exporter": "python",
            "file_extension": ".py"
        },
        "kernelspec": {
            "name": "python3",
            "display_name": "Python 3.9.5 64-bit ('base': conda)"
        },
        "interpreter": {
            "hash": "f529dfce050b85d103ce586d230b9f36bf63078daf4a3eea5bb6b6cda01c3f75"
        }
    },
    "nbformat": 4,
    "nbformat_minor": 2
}