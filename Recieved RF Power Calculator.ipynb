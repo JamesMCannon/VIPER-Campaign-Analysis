{
    "cells": [
        {
            "cell_type": "code",
            "execution_count": 6,
            "source": [
                "import math as m\r\n",
                "\r\n",
                "#Basic antenna propegation calculator \r\n",
                "\r\n",
                "Pt = 1.2 #Transmitter Power in MW\r\n",
                "d = 2000 #Distance from transmitter in KM\r\n",
                "G = 3.52 #The 10log10 gain of the transmitter\r\n",
                "Z0 = 377 #Impedence of free space in ohms\r\n",
                "\r\n",
                "g = 10 ** (G/10)\r\n",
                "A = 4*m.pi*(d*1000)**2 #Area in m^2\r\n",
                "s = 1000000*Pt*g/A #Recieved Power at distance, d, in w/m^2\r\n",
                "\r\n",
                "mu = 0.000001256 #Henries/m\r\n",
                "B = mu * m.sqrt(s/Z0) * 10**9 #magnetic component in nT\r\n",
                "E = m.sqrt(s*Z0)\r\n * 10**3 #electric component in mV/m\r\n",
                "\r\n",
                "print(str(round(B,3))+\" nT\")\r\n",
                "print(str(round(E,5))+\" mV/m\")\r\n"
            ],
            "outputs": [
                {
                    "output_type": "stream",
                    "name": "stdout",
                    "text": [
                        "0.015 nT\n",
                        "0.0045 V/m\n"
                    ]
                }
            ],
            "metadata": {}
        }
    ],
    "metadata": {
        "orig_nbformat": 4,
        "language_info": {
            "name": "python",
            "version": "3.9.6",
            "mimetype": "text/x-python",
            "codemirror_mode": {
                "name": "ipython",
                "version": 3
            },
            "pygments_lexer": "ipython3",
            "nbconvert_exporter": "python",
            "file_extension": ".py"
        },
        "kernelspec": {
            "name": "python3",
            "display_name": "Python 3.9.6 64-bit (windows store)"
        },
        "interpreter": {
            "hash": "8fcaf298253f65fac3372020ec1d298e3b62a7dca2683f0f2f0d866fe440ee8a"
        }
    },
    "nbformat": 4,
    "nbformat_minor": 2
}
